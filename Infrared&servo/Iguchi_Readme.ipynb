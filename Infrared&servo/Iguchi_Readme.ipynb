{
 "cells": [
  {
   "cell_type": "markdown",
   "metadata": {},
   "source": [
    "# Esp32 Server(Infrared&Servo motor)\n",
    "ESP32を使って赤外線LEDやサーボモータを動かす部分の説明です．<br>\n",
    "PCからWi-Fiを経由して送られた命令を元に，部屋の照明・TV・エアコン・サーボモータを動かすことができます．<br>\n",
    "![esp32_device_image](.png) <!-- 装置全体の画像を貼る予定 -->\n",
    "\n",
    "## Demo\n",
    "実際に家電やサーボモータを動かした時の様子です．<br>\n",
    "![esp32_demo_movie](.gif) <!-- デモ動画を載せる？ -->\n",
    "\n",
    "## Usage\n",
    "**※使用する前に赤外線リモコンの送信コードを調べておく必要があります．<br>\n",
    "(使いたい赤外線の情報をサーバに保存するような機能も追加したかったですが，時間が足りませんでした(´・ω・｀))**<br>\n",
    "**↓リンク先のコードを使用することで赤外線の読み取りができます．**<br>\n",
    "<https://github.com/crankyoldgit/IRremoteESP8266/blob/master/examples/IRrecvDumpV3/IRrecvDumpV3.ino>\n",
    "\n",
    "curlコマンドを使える環境があれば以下のコマンドを打つことで簡単に試すことができます．<br>\n",
    "broadはdigitalとbsの二択でチャンネルは1~12chまで対応しています．<br>\n",
    "エアコンのON/OFFに必要な配列はサーバから自動的に取得します．<br>\n",
    "サーボモータの動作に関しては，命令を送るたびにON/OFFが交互に切り替わるようになっています．<br>\n",
    "\n",
    "```\n",
    "curl <IPアドレス>/ledon\n",
    "curl <IPアドレス>/ledoff\n",
    "curl <IPアドレス>/tvon?broad=broad\\&ch=1\n",
    "curl <IPアドレス>/tvoff\n",
    "curl <IPアドレス>/air\n",
    "curl <IPアドレス>/servo\n",
    "```\n",
    "\n",
    "## Setup\n",
    "セットアップするのに特別な手順は必要ありません．<br>\n",
    "Arduino IDEを自身のPCにインストールして，ESP32にプログラムを書き込めば動きます．<br>\n",
    "\n",
    "## Schematic\n",
    "使用した部品は以下の通りで，回路図に示すように配線を行いました．\n",
    "- sg90(マイクロサーボモータ)\n",
    "- Mg996r(サーボモータ)\n",
    "- VS1838B(赤外線受光モジュール)\n",
    "- 赤外線LED×3\n",
    "- 抵抗(10Ω×2, 1kΩ×1)\n",
    "- 2N2222(トランジスタ)\n",
    "\n",
    "![esp32_schematic](.png) <!-- 回路図を載せる -->\n",
    "\n",
    "## Dependency\n",
    "\n",
    "### 開発言語\n",
    "- Arduino言語\n",
    "\n",
    "### 開発環境\n",
    "- Arduino IDE ver1.8.13\n",
    "\n",
    "### 使用したライブラリ\n",
    "- Arduino_JSON ver0.1.0\n",
    "- ESP32Servo ver0.9.0\n",
    "- IRremoteESP8266 ver2.7.12"
   ]
  },
  {
   "cell_type": "code",
   "execution_count": null,
   "metadata": {},
   "outputs": [],
   "source": []
  }
 ],
 "metadata": {
  "kernelspec": {
   "display_name": "Python 3",
   "language": "python",
   "name": "python3"
  },
  "language_info": {
   "codemirror_mode": {
    "name": "ipython",
    "version": 3
   },
   "file_extension": ".py",
   "mimetype": "text/x-python",
   "name": "python",
   "nbconvert_exporter": "python",
   "pygments_lexer": "ipython3",
   "version": "3.6.9"
  }
 },
 "nbformat": 4,
 "nbformat_minor": 4
}
