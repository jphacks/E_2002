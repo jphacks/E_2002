{
 "cells": [
  {
   "cell_type": "markdown",
   "metadata": {},
   "source": [
    "# AI Camera\n",
    "メインコンピュータから命令を受けるとJetson Nanoが起動して接続されたカメラから画像を取得してベッドに人がいるかどうかをAIによって判断し、その結果をファイルに書き込みメインコンピュータに読み取ってもらう。 <br>\n",
    "ユーザーが起床したことが確認されるとAIによる処理を終了させて再起動をし、スタートアッププログラムによって再びメインコンピュータからの命令を受け取れるように待機する。"
   ]
  },
  {
   "cell_type": "markdown",
   "metadata": {},
   "source": [
    "# Camera\n",
    "## Logicool C270n\n",
    "[Logicool C270n](https://www.logicool.co.jp/ja-jp/product/hd-webcam-c270n)はLogicoolが販売しているUSB接続のカメラである。このカメラはHD 720pで内蔵カメラのないデスクトップPCやテレビ通話などに利用されている。<br>\n",
    "本プロジェクトでは使用するマイコンボードにはカメラ入力としてUSBとraspberry pi用の2つが用意されていたが汎用性の高いUSB接続にするため購入当時安価で納期の早かった本製品を採用した。 <br> "
   ]
  },
  {
   "cell_type": "markdown",
   "metadata": {},
   "source": [
    "# 画像差し込み希望 ( logicoolcamera.jpg )"
   ]
  },
  {
   "cell_type": "markdown",
   "metadata": {},
   "source": [
    "# Jetson Nano<br>\n",
    "[Jetson Nano](https://static6.arrow.com/aropdfconversion/1280937d98cee0191d01d75dc0cb547310d0fa57/jetson-nano-module-datasheet-us-1031771-r3-hr.pdf)とはNvidiaが開発したマイコンボードである。 <br>\n",
    "本プロジェクトでは著者がAI開発においてLinuxを使用しているため、OSがLinuxでAIの並列処理に優れたGPUを搭載した本機を採用した。"
   ]
  },
  {
   "cell_type": "markdown",
   "metadata": {},
   "source": [
    "# 画像差し込み希望 ( jetson nano.jpg )"
   ]
  },
  {
   "cell_type": "markdown",
   "metadata": {},
   "source": [
    "## 必要なもの （購入品） <br>\n",
    "* Jetson Nano <br>\n",
    "* SDカード（32GB以上） <br>\n",
    "* モニター(HDMIまたはDisplay port) <br>\n",
    "* モニターケーブル <br>\n",
    "* キーボード <br>\n",
    "* マウス <br>\n",
    "* WiFiドングル <br>"
   ]
  },
  {
   "cell_type": "markdown",
   "metadata": {},
   "source": [
    "## セットアップ <br>\n",
    "OS（ Ubuntu 18.04 LTS )&nbsp;&nbsp;:&nbsp;&nbsp;[JetPack 4.4.1](https://developer.nvidia.com/embedded/jetpack#install) <br>\n",
    "\n",
    "1.　上記サイトのSDカードイメージファイルをダウンロードする <br>\n",
    "2.　SDカードにダウンロードしたイメージファイルを「balenaEtcher」を用いて書き込む <br>\n",
    "3.　SDカードをJetson Nanoに入れて電源アダプターを差し込んで起動する　（5V2A：microusb , 5V4A:DCプラグ）<br>\n",
    "4.　ユーザー登録を行い、ネットワーク接続設定をしてインターネットと接続する <br>\n",
    "5.　アップデートを行う <br>\n",
    "<br>\n",
    "    `sudo apt-get update` <br>\n",
    "    `sudo apt-get upgrade` <br>"
   ]
  },
  {
   "cell_type": "markdown",
   "metadata": {},
   "source": [
    "## Python 開発環境\n",
    "### 必要なライブラリ\n",
    "* OpenCV <br>\n",
    "* numpy <br>\n",
    "* time <br>\n",
    "* argparse <br>\n",
    "* math <br>\n",
    "* datetime <br>\n",
    "* json <br>\n",
    "* subprocess <br>\n",
    "* flask <br>\n",
    "* glab <br>"
   ]
  },
  {
   "cell_type": "markdown",
   "metadata": {},
   "source": [
    "# AI アルゴリズム　__*YOLO*__ <br>\n",
    "[YOLO（You Only Look Once）](https://arxiv.org/pdf/2004.10934.pdf)とは物体検出手法の1つで画像を読み込んでCNNに通すことでAIが学習した物体を検出することができるアルゴリズムである。<br>\n",
    "このアルゴリズムはLinux18.04やWindows10だけでなくRaspberry piやJetson Nanoのようなマイコンでも動作することが確認されたため本プロジェクトにて採用した。 <br>"
   ]
  },
  {
   "cell_type": "markdown",
   "metadata": {},
   "source": [
    "## YOLO セットアップ <br>\n",
    "1.　YOLOのオープンソースである [darknet](https://github.com/AlexeyAB/darknet) をダウンロードする <br>\n",
    " <br>\n",
    "`git clone https://github.com/AlexeyAB/darknet` <br>\n",
    " <br>\n",
    "2.　darknetのフォルダ内にあるMakefileを編集する <br>\n",
    " <br>\n",
    "`cd darknet` <br>\n",
    "`sudo vi Makefile` <br>\n",
    " <br>\n",
    "* ___変更箇所___ (2020/11/25時点) <br>\n",
    "1行目 ： GPU=1 <br>\n",
    "2行目 ： CUDNN=1 <br>\n",
    "3行目 ： CUDNN_HALF=1 <br>\n",
    "4行目 ： OPENCV=1 <br>\n",
    "7行目 ： LIBSO=1 <br> \n",
    "24行目 ： # -gencode arch=compute_61,code=[sm_61,compute_61] <br>\n",
    "47行目 ： ARCH= -gencode arch=compute_53,code=[sm_53,compute_53] <br>\n",
    "72行目 ： NVCC=/usr/local/cuda/bin/nvcc <br>\n",
    " <br>\n",
    "3.　コンパイルする <br>\n",
    "<br>\n",
    "`make` <br>\n",
    "<br>\n",
    "エラーがなければコンパイル成功！"
   ]
  },
  {
   "cell_type": "markdown",
   "metadata": {},
   "source": [
    "## YOLO デフォルト実行方法 <br>\n",
    "セットアップが終わるとYOLOを利用することができるようになる。 <br>\n",
    "実際に物体検出ができるかどうか確認にするため次のコマンドを実行する　<br>\n",
    "<br>\n",
    "`./darknet detect yolov4-tiny.cfg yolov4-tiny.weights data/dog.jpg` <br>\n",
    "<br>\n",
    "もしエラーがない場合、犬と自転車と車を検出結果が画面に表示されるようになっている。 <br>"
   ]
  },
  {
   "cell_type": "markdown",
   "metadata": {},
   "source": [
    "## データセット＆CNN <br>\n",
    "本プロジェクトではリアルタイムで人がベッドにいるかどうかを判断する必要がある。 <br>\n",
    "そこでJetson Nanoにて13fpsを出せることが確認されている __yolov4-tiny.cfg__ を採用した。<br>\n",
    "このファイルは\"darknet/cfg/\"にすでに存在するものである。<br>\n",
    "また開発者がすでに公開された「人」を含む80種類の画像データセットで学習して得られた重みである __yolov4-tiny.weights__ にて人の検出を行った。<br>\n",
    "このファイルは以下のコマンドを実行することで入手加納である。<br>\n",
    "<br>\n",
    "`wget https://github.com/AlexeyAB/darknet/releases/download/darknet_yolo_v4_pre/yolov4-tiny.weights`"
   ]
  },
  {
   "cell_type": "markdown",
   "metadata": {},
   "source": [
    "# カメラ接続テスト<br>\n",
    "Jetson NanoのUSBポートにカメラのUSBを接続する<br>"
   ]
  },
  {
   "cell_type": "markdown",
   "metadata": {},
   "source": [
    "## logicamera.py<br>\n",
    "Jetson Nanoにてカメラがきちんと認識されて映像がくるかどうか確認するためのプログラム<br>\n",
    "* 実行方法<br>\n",
    "`python3 logicamera.py` <br>"
   ]
  },
  {
   "cell_type": "markdown",
   "metadata": {},
   "source": [
    "このプログラムを実行するとモニターにカメラからの映像が表示される。 <br>\n",
    "表示された画像を保存したい場合は表示された映像をアクティブにしてキーボードの「s」を入力すると\"darknet/jphack/camera\"に撮影した日時の名前の画像ファイルとして保存される。<br>\n",
    "停止させたい場合は表示された映像をアクティブにしてキーボードの「q」を入力するまたは「Ctrl + c」で正常終了する。<br>\n",
    "もし映像が出力されず以下のようなエラーが出た際はカメラのUSBを一度抜いて再びさすまたは別のUSBポートにさすことを推奨する。<br>\n",
    " <br>\n",
    "`error: (-215) size.width>0 && size.height>0 in function cv::imshow` <br>"
   ]
  },
  {
   "cell_type": "markdown",
   "metadata": {},
   "source": [
    "# YOLO　プログラム編集"
   ]
  },
  {
   "cell_type": "markdown",
   "metadata": {},
   "source": [
    "AIカメラの役割である人の検出を行うために開発者が作成したプログラムを変更した。 <br>"
   ]
  },
  {
   "cell_type": "markdown",
   "metadata": {},
   "source": [
    "## darknet_jphack.py\n",
    "darknet.pyを編集したものである。 <br>\n",
    "開発者が作成したものは学習データセットに含まれるものが映像から検出された時、その物体の予測値と位置を示す枠をモニターに表示する仕様となっていた。 <br>\n",
    "しかし、80種類の物体を検出して表示すると非常にわかりにくいため「人」である __\"person\"__ が検出されたときだけ予測値と位置を表示するように変更した。 <br>"
   ]
  },
  {
   "cell_type": "markdown",
   "metadata": {},
   "source": [
    "## jphack_test.py <br>\n",
    "darknet_images.pyを編集したもので、任意のタイミングでカメラからの映像から人を検出するプログラム <br>\n",
    "開発者が作成したものは1枚または複数枚の画像のパスを入力することでそれらの画像から物体検出を行う仕様となっていた。 <br>\n",
    "そこで、カメラからの映像を取得して任意のタイミングで取得した映像に人が検出できるプログラムを作成した。 <br>\n",
    "* 実行方法 <br>\n",
    "`python3 jphack_camera_test.py` <br>"
   ]
  },
  {
   "cell_type": "markdown",
   "metadata": {},
   "source": [
    " エラーなく実行されるとカメラからの映像がモニターに表示される。 <br>\n",
    " YOLOによる物体検出を行いたい場合はTerminal外でキーボードの「s」を入力すると検出が行われて予測値がTerminalに表示される。 <br>\n",
    " また検出結果は\"darknet/jphack/result_img\"に撮影した日時の名前の画像ファイルとして保存されるため後ほど確認することが可能である。 <br>\n",
    " 停止させたい場合はTerminal外でキーボードの「q」を入力するまたは「Ctrl + c」で正常終了する。"
   ]
  },
  {
   "cell_type": "markdown",
   "metadata": {},
   "source": [
    "# AI Camera 動作確認テスト"
   ]
  },
  {
   "cell_type": "markdown",
   "metadata": {},
   "source": [
    "## jphack_demo.py <br>\n",
    "指定した時間の間、カメラからの映像に対して物体検出をしてリアルタイムでモニターに表示するプログラム <br>\n",
    "jphack_camera_test.pyではユーザーが指定した瞬間のカメラ映像に対して物体検出をする仕様となっていたが、これではベッドから人が起き上がるまでを管理することができない。　<br>\n",
    "そこで、カメラからの映像に対して常に物体検出ができるように変更した。<br>\n",
    "* 実行方法 <br>\n",
    "`python3 jphack_camera_test.py` <br>"
   ]
  },
  {
   "cell_type": "markdown",
   "metadata": {},
   "source": [
    "エラーなく実行されるとカメラからの映像に対して物体検出をした結果がモニターにリアルタイムで表示される。 <br>\n",
    "カメラからの映像を1フレームずつ保存したものが\"darknet/jphack/video\"にプログラム実行開始日時のファルダが生成されており、その中に撮影されたすべてのフレームがそれぞれ取得した日時の名前の画像ファイルとして保存される。 <br>\n",
    "カメラからの映像を動画にしたものは\"darknet/jphack/video\"に生成されたプログラム実行開始日時のファルダの中に保存されている。 <br>\n",
    "カメラからの映像から物体検出をした結果を1フレームずつ保存したものが\"darknet/jphack/result\"に撮プログラム実行開始日時のファルダが生成されており、その中にすべての検出結果がそれぞれ取得した日時の名前の画像ファイルとして保存される。 <br>\n",
    "画面に表示された検出結果動画は\"darknet/jphack/result\"に生成されたプログラム実行開始日時のファルダの中に保存されている。 <br>"
   ]
  },
  {
   "cell_type": "markdown",
   "metadata": {},
   "source": [
    "# 11月24日に撮影した結果とCUIの挙動を表示した動画を差し込む"
   ]
  },
  {
   "cell_type": "markdown",
   "metadata": {},
   "source": [
    "# メインコンピュータとの連携\n",
    "メインコンピュータの命令でAI Cameraが起動できるようにする"
   ]
  },
  {
   "cell_type": "markdown",
   "metadata": {},
   "source": [
    "## Jetson Nanoの役割\n",
    "メインコンピュータの命令を受けて以下のことを行う。 <br>\n",
    "* AI Cameraの起動・物体検出開始 <br>\n",
    "* 検出結果を渡す <br>\n",
    "* AI Cameraの停止・再起動 <br>"
   ]
  },
  {
   "cell_type": "markdown",
   "metadata": {},
   "source": [
    "## server.py\n",
    "メインコンピュータの命令を受けて上記3つの処理を行うプログラム <br>\n",
    "メインコンピュータとはローカルサーバーで繋がっており、サーバーとして命令を受け取る。 <br>\n",
    "サーバー経由の命令でpythonファイルを実行させるため、pythonのウェブアプリケーションフレームワークであるflaskを採用した。 <br>\n",
    "### start_yolo()\n",
    "AI Cameraを起動させて物体検出を開始させる関数。 <br>\n",
    "### return_result()\n",
    "メインコンピュータからユーザーがベッドにいるかどうかを確認するように命令された際に結果を伝える関数 <br>\n",
    "### overwrite_state()\n",
    "メインコンピュータからユーザーが起床したため検出を終了するように命令された際にAI Cameraを停止させて再起動する関数"
   ]
  },
  {
   "cell_type": "markdown",
   "metadata": {},
   "source": [
    "## jphack.py\n",
    "サーバーによるAI Cameraの起動・停止や検出結果通達を行うプログラム  <br>\n",
    "サーバーを用いてAI Cameraの起動・停止や検出結果通達を行えるようにするために__jphack_demo.py__を編集したものである。  <br>\n",
    "これまでの実行方法とは異なり、メインコンピュータからのサーバーからの命令であるserver.pyの__start_yolo()__によってAI Cameraの起動が求められると起動準備をして\"state.json\"が書き換えられることで検出を開始する仕様となっている。 <br>\n",
    "また、1秒間隔で人がいるかどうかを判断した結果を\"jphack.json\"に書き込むことで、server.pyの__return_result()__によってメインコンピュータが検出結果を求めらた際に結果を送信できるようにしている。 <br>\n",
    "そして、server.pyの__overwrite_state()__によって\"state.json\"が書き換えられることで検出を終了して再起動する。"
   ]
  },
  {
   "cell_type": "markdown",
   "metadata": {},
   "source": [
    "## サーバー経由での実行方法\n",
    "メインコンピュータからの命令で実行するためには以下のコマンドを実行する必要がある。 <br>\n",
    "darknetのカレントディレクトリにて <br>\n",
    " <br>\n",
    "`FLASK_APP=server.py flask run --host=0.0.0.0` <br>"
   ]
  },
  {
   "cell_type": "markdown",
   "metadata": {},
   "source": [
    "## 再起動させる理由\n",
    "上述のように本機はメインコンピュータからの終了命令を受け取ると再起動する仕様となっている。 <br>\n",
    "これは再起動せずに実行した場合、メモリ不足によって物体検出の速度が著しく低下してリアルタイム処理ができないためである。 <br>\n",
    "そこで、本機を再起動させて上記のコマンドを実行することでメモリ不足問題を回避した。"
   ]
  },
  {
   "cell_type": "markdown",
   "metadata": {},
   "source": [
    "## 再起動後の対応方法\n",
    "初めての起動の際はコマンドをキーボード入力することができるが、これを自動で行えるようにしなければユーザーが毎回手動入力することになり、手間がかかる。 <br>\n",
    "そこで、起動した際ににサーバー経由実行に必要なコマンドを入力するプログラムを入れることで自動入力できるようにスタートアップサービスを変更した。"
   ]
  },
  {
   "cell_type": "markdown",
   "metadata": {},
   "source": [
    "# スタートアップサービス\n",
    "Ubuntu 18.04 LTSではいくつかのスタートアップサービスの変更方法が紹介されているが、本プロジェクトでは__etc/rc.local__によるスタートアップを採用した。　<br>"
   ]
  },
  {
   "cell_type": "markdown",
   "metadata": {},
   "source": [
    "## startup.sh\n",
    "起動時に実行したいコマンドをこのファイル内に記述している。 <br>\n",
    "本プロジェクトでは起動時にdarknetのカレントディレクトリへ移動してサーバー経由実行となっているため、shellファイル内にカレントディレクトリへの移動とサーバー経由実行コマンドの2つを改行して書き込んでいる。 <br>\n",
    "なお、このファイルはホームディレクトリに作成する。 <br>\n",
    "* ファイル作成・編集方法 <br>\n",
    "`sudo vi startup.sh` <br>"
   ]
  },
  {
   "cell_type": "markdown",
   "metadata": {},
   "source": [
    "作成したshellファイルは読み込みしか対応できていないため実行できるようにするため以下のコマンドを実行する。<br>\n",
    "* shellファイル有効化 <br>\n",
    "`sudo chmod 755 startup.sh` <br>"
   ]
  },
  {
   "cell_type": "markdown",
   "metadata": {},
   "source": [
    "## etc/rc.local\n",
    "スタートアップサービスにて、上記で作成したshellファイルを実行するためにshellファイルのパスを保存するためのlocalファイルを作成する。 <br>\n",
    "* 作成するディレクトリ： __/etc__<br>\n",
    "* ファイル作成・編集方法<br>\n",
    "`sudo vi etc/rc.local` <br>"
   ]
  },
  {
   "cell_type": "markdown",
   "metadata": {},
   "source": [
    "このファイルには実行したいshellファイルのpathを記述する。 <br>\n",
    "ファイル作成時、1行目に__#!/bin/sh__を入れないとエラーが出ることがあるため注意が必要である。　<br>\n",
    "このファイルも有効化するために次のコマンドを実行する必要がある。 <br>\n",
    "* localファイル有効化 <br>\n",
    "`sudo chmod 755 startup.sh` <br>"
   ]
  },
  {
   "cell_type": "markdown",
   "metadata": {},
   "source": [
    "## rc-local.service\n",
    "上記で作成したshellファイルをスタートアップサービスとして実行するために必要なserviceファイルを作成する。 <br>\n",
    "* 作成するディレクトリ： __/etc/systemd/system__<br>\n",
    "* ファイル作成・編集方法<br>\n",
    "`sudo vi etc/etc/systemd/system/rc-local.service` <br>"
   ]
  },
  {
   "cell_type": "markdown",
   "metadata": {},
   "source": [
    "このファイルは大きく3つで構成されている。 <br>\n",
    "* Unit <br>\n",
    "* Service <br>\n",
    "* Install <br>"
   ]
  },
  {
   "cell_type": "markdown",
   "metadata": {},
   "source": [
    "それぞれの要素においてたくさんの引数があり、引数を使うことで定期的にプログラムを実行することやある条件を満たすまで何もできないようにすることができる。 <br>\n",
    "本プロジェクトではJetson Nanoが再起動した際に1度だけshellファイルに記述したものを実行することでユーザーが本機に触れることなく永久的に利用することができるため、引数は最低限しか使わないようにした。 <br>\n",
    "なお、ファイル作成時、1行目に__# vi /etc/systemd/system/rc-local.service__を入れないとエラーが出ることがあるため注意が必要である。\n",
    "このファイルも有効化するために次のコマンドを実行する必要がある。\n",
    "* serviceファイル有効化 <br>\n",
    "`sudo chmod +x /etc/systemd/system/rc-local.service` <br>"
   ]
  },
  {
   "cell_type": "markdown",
   "metadata": {},
   "source": [
    "## スタートアップサービスの設定\n",
    "上記で作成した3つのファイルを用いて起動時にshellファイル内に記述したものを実行できるように設定する。 <br>\n",
    "* スタートアップサービスの有効化　<br>\n",
    "`sudo systemctl enable rc-local` <br>\n",
    "<br>\n",
    "* スタートアップサービスの開始　<br>\n",
    "`sudo systemctl start rc-local`"
   ]
  },
  {
   "cell_type": "markdown",
   "metadata": {},
   "source": [
    "ここまででエラーが出なければスタートアップサービスとして登録されたことになる。<br>\n",
    "<br>\n",
    "現在の状態は次のコマンドで確認できる。 <br>\n",
    "* スタートアップサービスの状況　<br>\n",
    "`sudo systemctl status rc-local`<br>"
   ]
  },
  {
   "cell_type": "markdown",
   "metadata": {},
   "source": [
    "また次のコマンドでスタートアップサービスを終了させることができる。<br>\n",
    "* スタートアップサービスの終了<br>\n",
    "`sudo systemctl stop rc-local`<br>\n",
    "<br>\n",
    "* スタートアップサービスの無効化<br>\n",
    "`sudo systemctl disable rc-local`<br>"
   ]
  },
  {
   "cell_type": "markdown",
   "metadata": {},
   "source": [
    "# 開発ポイント\n",
    "1. YOLO\n",
    "2. サーバー化\n",
    "3. スタートアップサービス"
   ]
  },
  {
   "cell_type": "markdown",
   "metadata": {},
   "source": [
    "## 1. YOLO\n",
    "大学の研究にてAIによる画像分類や異常検知を担当していたが、今年からYOLOによる物体検出を開始し、自前の画像データに対して正解ラベルを作成して学習を行った経験があった。 <br>\n",
    "しかし、出力結果をもとに実行する内容を変えたり、任意のタイミングで終了するなどのプログラム作成には取り組んではいなかった。 <br>\n",
    "また、研究ではGPUを搭載したデスクトップパソコンを使用して開発を行っているが、本プロジェクトの目的である小型化には向いていなかったため、以前より注目していたJetson Nanoを今回のハッカソンのために購入して使えるようにした。 <br>\n",
    "\n",
    "新しいタスクと新しいデバイスでYOLOを利用するためにはYOLOの創設者が公開しているものでは対応できないと判断したため、本プロジェクト内にてJetson Nanoに対応したYOLOのオープンソースを探し、その開発者が公開していたpythonファイルに注目したところ、プログラムを編集することで利用できることが予想されたためYOLOを採用した。 <br>\n",
    "\n",
    "実際に環境構築を行い、通常のコマンドが実行できることを確認してからpythonプログラムの編集に取り掛かったが、YOLOをC++で開発したものをpythonで実行できる形に変更していたため1つ1つの関数の処理が何をしているのか理解するのに時間を要した。 <br>\n",
    "また、画像1枚の処理をすることは開発者のプログラムと大きな差はないが、カメラからの映像に対してリアルタイムで処理して表示することに関しては処理の速さが求められたため、エラーによるプログラム終了を回避しながら処理数をできるだけ少なくしてメモリに余裕をもたせることでリアルタイム処理を可能にした。 <br>"
   ]
  },
  {
   "cell_type": "markdown",
   "metadata": {},
   "source": [
    "## 2. サーバー化\n",
    "本機開発においてJetson Nanoのサーバー化に非常に時間を要した。 <br>\n",
    "そもそもサーバー化することがなにかをよくわからなかったため、サーバーについて調べてできることを少し学んだ。 <br>\n",
    "開発では、メインコンピュータからの命令を受けて実行するために作成したプログラムをどうすればよいか考え、関数化とjsonファイルの値による操作分岐によって解決することができた。 <br>\n",
    "また、AI Cameraを起動してメインコンピュータから終了命令が来るまで検出を繰り返した後に本機を停止させるが、2日目再び起動させるとメモリ不足を引き起こしてリアルタイム処理ができない状態になったが、再起動することでメモリ不足を回避して正常に動作できるようにした。"
   ]
  },
  {
   "cell_type": "markdown",
   "metadata": {},
   "source": [
    "## 3. スタートアップサービス\n",
    "上述のサーバー化の中で再起動させることでメモリ不足を回避することができたが、再起動したことによってメインコンピュータからの命令を受け取れない状態になってしまった。 <br>\n",
    "そこで、再起動時にサーバー化するように改良することで何回でも本機を起動できると考えた。 <br> \n",
    "研究にてLinuxを使用していたが、スタートアップサービスを利用する必要はなかったため、どうすればいいかわからなかった。 <br>\n",
    "本機開発において2つの方法を使用した。 <br>\n",
    "1. crontab\n",
    "2. rc.local & rc_local service"
   ]
  },
  {
   "cell_type": "markdown",
   "metadata": {},
   "source": [
    "### 1. crontab\n",
    "インターネットでスタートアップ時に指定したプログラムを実行する方法を探していたところ、__crontab__による方法が数多く見られた。 <br>\n",
    "そこで、大学の研究で使用しているLinuxのパソコンにて設定してみたところ、起動時に指定したプログラムが実行されたため問題なく使えることが確認された。 <br>\n",
    "しかし、Jetson Nanoで同じように設定して再起動しても何も変わることはなかった。エラー表示などもなかったため対処方法がわからず振り出しに戻った。"
   ]
  },
  {
   "cell_type": "markdown",
   "metadata": {},
   "source": [
    "### 2. rc.local & rc_local service \n",
    "上述の方法ではうまくいかなかったため、__etc/rc.local__による方法を試した。 <br>\n",
    "こちらの方法は時間の都合上、大学のパソコンではテストすることなくいきなりJetson Nanoにて設定しようとしたが、エラーが頻発した。　<br>\n",
    "「ファイルの実行権限がない」・「ライブラリのバージョンが異なる」・「起動時に0.2秒ほどだけ見えるserviveファイルに対する引数に対するエラー」など様々なエラーに対応した。 <br>\n",
    "これらのエラーに対応したことにより、スタートアップサービスの実現に成功した。 <br>\n",
    "なお、Jetson Nanoは初期セットアップとアップデート、pythonやライブラリの利用に必要なものだけをダウンロードしただけのものなので他の方法ですでに利用されている方はこれらのエラーに遭遇しないことが予想される。"
   ]
  },
  {
   "cell_type": "markdown",
   "metadata": {},
   "source": [
    "# コメント\n",
    "以上が本機開発者からのデバイスのセットアップおよびプログラムの説明になります。 <br>\n",
    "Jetson NanoはGPUを搭載した小型マイコンということで研究機関や商品開発などで幅広く利用されているようです。 <br>\n",
    "Jetson Nanoを利用した著者としましても非常に使いやすく汎用性の高いものであると実感し、今後は四輪車やドローンの開発などに活用していくことを検討しています。 <br>\n",
    "こちらをご覧になった皆様がJetson NanoやAIに興味を持っていただき、各々の研究開発や趣味の多様化などに貢献できますと幸いです。 <br>\n",
    "<br>\n",
    "最後までお目通し頂き、誠にありがとうございました。"
   ]
  }
 ],
 "metadata": {
  "kernelspec": {
   "display_name": "Python 3",
   "language": "python",
   "name": "python3"
  },
  "language_info": {
   "codemirror_mode": {
    "name": "ipython",
    "version": 3
   },
   "file_extension": ".py",
   "mimetype": "text/x-python",
   "name": "python",
   "nbconvert_exporter": "python",
   "pygments_lexer": "ipython3",
   "version": "3.5.6"
  }
 },
 "nbformat": 4,
 "nbformat_minor": 4
}
